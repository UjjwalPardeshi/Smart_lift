{
 "cells": [
  {
   "cell_type": "code",
   "execution_count": 1,
   "id": "fbcb2c11-d56b-4f34-98bc-a356f08e3aa0",
   "metadata": {
    "ExecuteTime": {
     "end_time": "2024-03-12T10:09:49.264330Z",
     "start_time": "2024-03-12T10:09:25.070350Z"
    }
   },
   "outputs": [],
   "source": [
    "import cv2\n",
    "import numpy as np\n",
    "from openvino.runtime import Core\n",
    "from openvino_detector_2022_3.model_api.performance_metrics import PerformanceMetrics\n",
    "from time import perf_counter\n",
    "\n",
    "core = Core()  # Initialize OpenVINO API\n",
    "detection_model_xml = \"openvino_detector_2022_3/model_2022_3/face-detection-retail-0005.xml\"\n",
    "detection_model = core.read_model(model=detection_model_xml)\n",
    "device = \"CPU\"  # if you have NCS2 use \"MYRIAD\"\n",
    "compiled_model = core.compile_model(model=detection_model, device_name=device)\n",
    "input_layer = compiled_model.input(0)  # Get input layer\n",
    "output_layer = compiled_model.output(0)  # get outputs layer\n",
    "source = 0  # 'videos/wonder_woman.mp4' # Load the video\n",
    "cap = cv2.VideoCapture(source)\n",
    "N, C, H, W = input_layer.shape\n",
    "metrics = PerformanceMetrics()\n",
    "\n",
    "# Added variables to keep track of the number of faces\n",
    "face_count = 0\n",
    "max_faces_in_first_5_seconds = 0\n",
    "start_time = perf_counter()\n",
    "\n",
    "while True:  # Main loop\n",
    "    ret, frame = cap.read()\n",
    "    if not ret:\n",
    "        break\n",
    "    current_time = perf_counter()\n",
    "    elapsed_time = current_time - start_time\n",
    "    if elapsed_time >= 5:\n",
    "        break\n",
    "    resized_image = cv2.resize(src=frame, dsize=(W, H))\n",
    "    input_data = np.expand_dims(np.transpose(resized_image, (2, 0, 1)), 0).astype(np.float32)\n",
    "    request = compiled_model.create_infer_request()\n",
    "    request.infer(inputs={input_layer.any_name: input_data})  # Infer\n",
    "    result = request.get_output_tensor(output_layer.index).data\n",
    "    bboxes = []  # Post-process the outputs\n",
    "    frame_height, frame_width = frame.shape[:2]\n",
    "\n",
    "    # Reset face count to 0 for each new frame\n",
    "    face_count = 0\n",
    "\n",
    "    for detection in result[0][0]:\n",
    "        label = int(detection[1])\n",
    "        conf = float(detection[2])\n",
    "        if conf > 0.76:\n",
    "            xmin = int(detection[3] * frame_width)\n",
    "            ymin = int(detection[4] * frame_height)\n",
    "            xmax = int(detection[5] * frame_width)\n",
    "            ymax = int(detection[6] * frame_height)\n",
    "            bboxes.append([xmin, ymin, xmax, ymax])\n",
    "            cv2.rectangle(frame, (xmin, ymin), (xmax, ymax), (243, 255, 69), 3)\n",
    "            cv2.putText(frame, f\"Faces: {face_count}\", (xmin, ymin - 5), cv2.FONT_HERSHEY_SIMPLEX, 0.7,\n",
    "                        (255, 255, 255), 2)\n",
    "            # Increment face count for each detected face\n",
    "            face_count += 1\n",
    "\n",
    "    if face_count > max_faces_in_first_5_seconds:\n",
    "        max_faces_in_first_5_seconds = face_count\n",
    "\n",
    "    metrics.update(current_time, frame)\n",
    "    cv2.imshow('person detection demo', frame)\n",
    "    key = cv2.waitKey(1)\n",
    "    if key in {ord('q'), ord('Q'), 27}:\n",
    "        break\n",
    "\n",
    "# Display max faces in first 5 seconds on the screen\n",
    "cv2.putText(frame, f\"Max faces in first 5 seconds: {max_faces_in_first_5_seconds}\", (10, 30),\n",
    "            cv2.FONT_HERSHEY_SIMPLEX, 0.7, (255, 255, 255), 2)\n",
    "cv2.imshow('person detection demo', frame)\n",
    "cv2.waitKey(0)\n",
    "\n",
    "cap.release()\n",
    "cv2.destroyAllWindows()\n"
   ]
  },
  {
   "cell_type": "code",
   "execution_count": null,
   "id": "f26d5598-7f55-4615-9af6-a43885c751b0",
   "metadata": {},
   "outputs": [],
   "source": []
  },
  {
   "cell_type": "code",
   "execution_count": null,
   "id": "1af6f715-429b-4be8-a28a-cbf436106292",
   "metadata": {},
   "outputs": [],
   "source": []
  },
  {
   "cell_type": "code",
   "execution_count": null,
   "id": "1cb947c9-0e56-4017-9a91-0bd402cabbdb",
   "metadata": {},
   "outputs": [],
   "source": []
  },
  {
   "cell_type": "code",
   "execution_count": null,
   "id": "26b674fa-3131-4673-b194-2efce5144ff3",
   "metadata": {},
   "outputs": [],
   "source": []
  }
 ],
 "metadata": {
  "kernelspec": {
   "display_name": "Python 3 (ipykernel)",
   "language": "python",
   "name": "python3"
  },
  "language_info": {
   "codemirror_mode": {
    "name": "ipython",
    "version": 3
   },
   "file_extension": ".py",
   "mimetype": "text/x-python",
   "name": "python",
   "nbconvert_exporter": "python",
   "pygments_lexer": "ipython3",
   "version": "3.11.7"
  }
 },
 "nbformat": 4,
 "nbformat_minor": 5
}
