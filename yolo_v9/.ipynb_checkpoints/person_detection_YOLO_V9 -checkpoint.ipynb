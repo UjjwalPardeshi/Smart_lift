{
 "cells": [
  {
   "cell_type": "code",
   "execution_count": 1,
   "id": "f26d5598-7f55-4615-9af6-a43885c751b0",
   "metadata": {},
   "outputs": [
    {
     "name": "stdout",
     "output_type": "stream",
     "text": [
      "Defaulting to user installation because normal site-packages is not writeable\n",
      "Requirement already satisfied: roboflow in /home/ujjwal/.local/lib/python3.10/site-packages (1.1.31)\n",
      "Requirement already satisfied: certifi==2023.7.22 in /home/ujjwal/.local/lib/python3.10/site-packages (from roboflow) (2023.7.22)\n",
      "Requirement already satisfied: chardet==4.0.0 in /usr/lib/python3/dist-packages (from roboflow) (4.0.0)\n",
      "Requirement already satisfied: cycler==0.10.0 in /home/ujjwal/.local/lib/python3.10/site-packages (from roboflow) (0.10.0)\n",
      "Requirement already satisfied: idna==2.10 in /home/ujjwal/.local/lib/python3.10/site-packages (from roboflow) (2.10)\n",
      "Requirement already satisfied: kiwisolver>=1.3.1 in /usr/lib/python3/dist-packages (from roboflow) (1.3.2)\n",
      "Requirement already satisfied: matplotlib in /usr/lib/python3/dist-packages (from roboflow) (3.5.1)\n",
      "Requirement already satisfied: numpy>=1.18.5 in /home/ujjwal/.local/lib/python3.10/site-packages (from roboflow) (1.26.4)\n",
      "Requirement already satisfied: opencv-python-headless==4.8.0.74 in /home/ujjwal/.local/lib/python3.10/site-packages (from roboflow) (4.8.0.74)\n",
      "Requirement already satisfied: Pillow>=7.1.2 in /home/ujjwal/.local/lib/python3.10/site-packages (from roboflow) (9.3.0)\n",
      "Requirement already satisfied: python-dateutil in /home/ujjwal/.local/lib/python3.10/site-packages (from roboflow) (2.8.2)\n",
      "Requirement already satisfied: python-dotenv in /home/ujjwal/.local/lib/python3.10/site-packages (from roboflow) (1.0.1)\n",
      "Requirement already satisfied: requests in /home/ujjwal/.local/lib/python3.10/site-packages (from roboflow) (2.31.0)\n",
      "Requirement already satisfied: six in /usr/lib/python3/dist-packages (from roboflow) (1.16.0)\n",
      "Requirement already satisfied: urllib3>=1.26.6 in /home/ujjwal/.local/lib/python3.10/site-packages (from roboflow) (2.2.1)\n",
      "Requirement already satisfied: tqdm>=4.41.0 in /home/ujjwal/.local/lib/python3.10/site-packages (from roboflow) (4.66.2)\n",
      "Requirement already satisfied: PyYAML>=5.3.1 in /home/ujjwal/.local/lib/python3.10/site-packages (from roboflow) (6.0.1)\n",
      "Requirement already satisfied: requests-toolbelt in /home/ujjwal/.local/lib/python3.10/site-packages (from roboflow) (1.0.0)\n",
      "Requirement already satisfied: python-magic in /home/ujjwal/.local/lib/python3.10/site-packages (from roboflow) (0.4.27)\n",
      "Requirement already satisfied: charset-normalizer<4,>=2 in /home/ujjwal/.local/lib/python3.10/site-packages (from requests->roboflow) (3.3.2)\n",
      "loading Roboflow workspace...\n",
      "loading Roboflow project...\n"
     ]
    },
    {
     "name": "stderr",
     "output_type": "stream",
     "text": [
      "Downloading Dataset Version Zip in People-Detection-1 to yolov9:: 100%|█| 64171/"
     ]
    },
    {
     "name": "stdout",
     "output_type": "stream",
     "text": [
      "\n"
     ]
    },
    {
     "name": "stderr",
     "output_type": "stream",
     "text": [
      "\n",
      "Extracting Dataset Version Zip to People-Detection-1 in yolov9:: 100%|█| 2138/21\n"
     ]
    }
   ],
   "source": [
    "!pip install roboflow\n",
    "\n",
    "from roboflow import Roboflow\n",
    "rf = Roboflow(api_key=\"TypzydLHOyIshGL6I3p4\")\n",
    "project = rf.workspace(\"leo-ueno\").project(\"people-detection-o4rdr\")\n",
    "version = project.version(1)\n",
    "dataset = version.download(\"yolov9\")\n"
   ]
  },
  {
   "cell_type": "code",
   "execution_count": null,
   "id": "1af6f715-429b-4be8-a28a-cbf436106292",
   "metadata": {},
   "outputs": [],
   "source": [
    "from ultralytics import YOLO\n",
    "\n",
    "# Build a YOLOv9c model from pretrained weight\n",
    "model = YOLO(\"yolov9c.pt\")\n",
    "\n",
    "# Display model information (optional)\n",
    "model.info()\n",
    "\n"
   ]
  },
  {
   "cell_type": "code",
   "execution_count": null,
   "id": "1cb947c9-0e56-4017-9a91-0bd402cabbdb",
   "metadata": {},
   "outputs": [],
   "source": [
    "\n",
    "results = model.train(data=\"coco8.yaml\", epochs=25, imgsz=640)"
   ]
  },
  {
   "cell_type": "code",
   "execution_count": null,
   "id": "26b674fa-3131-4673-b194-2efce5144ff3",
   "metadata": {},
   "outputs": [],
   "source": []
  }
 ],
 "metadata": {
  "kernelspec": {
   "display_name": "Python 3 (ipykernel)",
   "language": "python",
   "name": "python3"
  },
  "language_info": {
   "codemirror_mode": {
    "name": "ipython",
    "version": 3
   },
   "file_extension": ".py",
   "mimetype": "text/x-python",
   "name": "python",
   "nbconvert_exporter": "python",
   "pygments_lexer": "ipython3",
   "version": "3.10.12"
  }
 },
 "nbformat": 4,
 "nbformat_minor": 5
}
